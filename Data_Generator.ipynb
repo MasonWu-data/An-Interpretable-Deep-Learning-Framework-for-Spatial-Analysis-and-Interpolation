{
 "cells": [
  {
   "cell_type": "code",
   "execution_count": 1,
   "metadata": {},
   "outputs": [],
   "source": [
    "#import packages\n",
    "import matplotlib\n",
    "from matplotlib import cm\n",
    "import torch\n",
    "import pandas as pd\n",
    "import torch.nn as nn\n",
    "import torch.nn.functional as F\n",
    "import torch.nn.init as init\n",
    "import matplotlib.pyplot as plt\n",
    "import torch.utils.data as Data\n",
    "import matplotlib.dates as mdates\n",
    "from torch.autograd import Variable\n",
    "import plotly.express as px\n",
    "import time\n",
    "import datetime\n",
    "from dateutil.relativedelta import relativedelta\n",
    "import calendar\n",
    "import numpy as np\n",
    "import joblib\n",
    "import sys\n",
    "from sklearn.metrics import roc_auc_score, average_precision_score\n",
    "from tqdm.notebook import trange, tqdm\n",
    "from statsmodels.tsa.arima_process import ArmaProcess\n",
    "# import geopandas as gpd\n",
    "import gstools as gs\n",
    "\n",
    "device0 = torch.device('cuda' if torch.cuda.is_available else 'cpu')\n",
    "np.random.seed(1)\n",
    "torch.manual_seed(1)\n",
    "torch.cuda.manual_seed(1) \n",
    "torch.set_default_dtype(torch.float32)"
   ]
  },
  {
   "cell_type": "code",
   "execution_count": 2,
   "metadata": {},
   "outputs": [],
   "source": [
    "torch.cuda.empty_cache()"
   ]
  },
  {
   "cell_type": "code",
   "execution_count": 3,
   "metadata": {},
   "outputs": [
    {
     "data": {
      "application/vnd.jupyter.widget-view+json": {
       "model_id": "ffd3c4873d6e4297bfcd4d4c12610e75",
       "version_major": 2,
       "version_minor": 0
      },
      "text/plain": [
       "  0%|          | 0/11025 [00:00<?, ?it/s]"
      ]
     },
     "metadata": {},
     "output_type": "display_data"
    },
    {
     "data": {
      "text/plain": [
       "tensor([[27.7846, 26.8958, 24.9627,  ..., 28.2686, 23.3985, 23.3948],\n",
       "        [24.5811, 23.7158, 21.8398,  ..., 25.1012, 20.5215, 20.1657],\n",
       "        [26.0511, 25.1114, 23.2222,  ..., 26.4869, 21.6549, 21.3758],\n",
       "        ...,\n",
       "        [26.6593, 25.5488, 23.7573,  ..., 27.1172, 22.1619, 22.0830],\n",
       "        [26.0880, 24.9862, 23.1161,  ..., 26.3515, 21.4856, 21.2502],\n",
       "        [26.3179, 25.3569, 23.2740,  ..., 26.7344, 21.9257, 21.6423]],\n",
       "       dtype=torch.float64)"
      ]
     },
     "execution_count": 3,
     "metadata": {},
     "output_type": "execute_result"
    }
   ],
   "source": [
    "# Gaussian distributed data\n",
    "# x = y = range(105)\n",
    "# model = gs.Gaussian(dim=2, var=0.002, len_scale=10)\n",
    "# srf = gs.SRF(model, seed=20230809)\n",
    "# field = srf.structured([x, y])\n",
    "# ar1 = np.array([1,0.6,0.4,0.2])\n",
    "# ma = np.array([1])\n",
    "# simulated_AR1_data = 22+ArmaProcess(ar1, ma).generate_sample(nsample=1095)\n",
    "# timeseries=torch.tensor(simulated_AR1_data).reshape(1095,1)\n",
    "# timeseries=timeseries.float()\n",
    "\n",
    "# # spatial layer\n",
    "# n=11025\n",
    "# cov=[[0,0,0,0,0,0,0,0,0,0] for i in range(n)]\n",
    "# for i in range(n):\n",
    "#     a=np.random.uniform(0,10)\n",
    "#     if a<=1:\n",
    "#         cov[i][0]=1\n",
    "#     elif 1<a<=2:\n",
    "#         cov[i][1]=1\n",
    "#     elif 2<a<=3:\n",
    "#         cov[i][2]=1\n",
    "#     elif 3<a<=4:\n",
    "#         cov[i][3]=1\n",
    "#     elif 4<a<=5:\n",
    "#         cov[i][4]=1\n",
    "#     elif 5<a<=6:\n",
    "#         cov[i][5]=1\n",
    "#     elif 6<a<=7:\n",
    "#         cov[i][6]=1\n",
    "#     elif 7<a<=8:\n",
    "#         cov[i][7]=1\n",
    "#     elif 8<a<=9:\n",
    "#         cov[i][8]=1\n",
    "#     elif 9<a<=10:\n",
    "#         cov[i][9]=1\n",
    "# cov=torch.tensor(cov).float()\n",
    "\n",
    "# #covariate\n",
    "# x0=np.random.uniform(-1,1,11025)\n",
    "# x0=np.c_[x0]\n",
    "# x0=torch.tensor(x0).float()\n",
    "# cov_cont=torch.cat((x0,cov),1)\n",
    "# joblib.dump(cov_cont,'X_cov')\n",
    "\n",
    "# beta=np.arange(0,5,step=0.5)\n",
    "# beta=np.insert(beta,0,[2.0])\n",
    "# beta=torch.tensor(beta).reshape(11,1).float()\n",
    "\n",
    "# n=105**2\n",
    "# field_tensor=torch.tensor(field).reshape(11025,1)\n",
    "\n",
    "# field_tensor=field_tensor+cov_cont@beta\n",
    "# field_tensor=field_tensor.reshape(1,n)\n",
    "# time=timeseries.repeat(1,n)\n",
    "# noise=torch.normal(mean=0,std=0.5,size=(1095,11025))\n",
    "# simudata=field_tensor+time+noise\n",
    "# joblib.dump(simudata,'Data_Gaussian')\n",
    "# simudata"
   ]
  },
  {
   "cell_type": "code",
   "execution_count": 3,
   "metadata": {},
   "outputs": [
    {
     "data": {
      "text/plain": [
       "tensor([[26.6524, 26.1220, 24.2633,  ..., 28.1134, 22.7507, 23.7831],\n",
       "        [23.4869, 23.1031, 21.6013,  ..., 25.1737, 21.6259, 20.4578],\n",
       "        [25.5326, 24.6844, 23.1000,  ..., 26.6931, 21.5677, 20.8792],\n",
       "        ...,\n",
       "        [26.5668, 24.6510, 23.6774,  ..., 27.8654, 21.9700, 22.5322],\n",
       "        [26.0530, 24.1910, 22.7261,  ..., 26.1362, 20.7994, 20.3837],\n",
       "        [26.2413, 25.2599, 22.4649,  ..., 27.2809, 22.3015, 21.5862]],\n",
       "       dtype=torch.float64)"
      ]
     },
     "execution_count": 3,
     "metadata": {},
     "output_type": "execute_result"
    }
   ],
   "source": [
    "# non-stationary data\n",
    "n=105\n",
    "x = y = range(n)\n",
    "s1,s2 = np.meshgrid(x,y)\n",
    "s = np.vstack((s1.flatten(),s2.flatten())).T\n",
    "nu = 0.5*np.sin(30*((s[:,0]+s[:,1])/(2*105)-0.9)**4)*np.cos(2*((s[:,0]+s[:,1])/(2*105)-0.9))+((s[:,0]+s[:,1])/(2*105)-0.9)/2\n",
    "\n",
    "ar1 = np.array([1,0.6,0.4,0.2])\n",
    "ma = np.array([1])\n",
    "simulated_AR1_data = 22+ArmaProcess(ar1, ma).generate_sample(nsample=1095)\n",
    "timeseries=torch.tensor(simulated_AR1_data).reshape(1095,1)\n",
    "timeseries=timeseries.float()\n",
    "\n",
    "# spatial layer\n",
    "n=11025\n",
    "cov=[[0,0,0,0,0,0,0,0,0,0] for i in range(n)]\n",
    "for i in range(n):\n",
    "    a=np.random.uniform(0,10)\n",
    "    if a<=1:\n",
    "        cov[i][0]=1\n",
    "    elif 1<a<=2:\n",
    "        cov[i][1]=1\n",
    "    elif 2<a<=3:\n",
    "        cov[i][2]=1\n",
    "    elif 3<a<=4:\n",
    "        cov[i][3]=1\n",
    "    elif 4<a<=5:\n",
    "        cov[i][4]=1\n",
    "    elif 5<a<=6:\n",
    "        cov[i][5]=1\n",
    "    elif 6<a<=7:\n",
    "        cov[i][6]=1\n",
    "    elif 7<a<=8:\n",
    "        cov[i][7]=1\n",
    "    elif 8<a<=9:\n",
    "        cov[i][8]=1\n",
    "    elif 9<a<=10:\n",
    "        cov[i][9]=1\n",
    "cov=torch.tensor(cov).float()\n",
    "\n",
    "x0=np.random.uniform(-1,1,11025)\n",
    "x0=np.c_[x0]\n",
    "x0=torch.tensor(x0).float()\n",
    "cov_cont=torch.cat((x0,cov),1)\n",
    "joblib.dump(cov_cont,'X_cov')\n",
    "\n",
    "beta=np.arange(0,5,step=0.5)\n",
    "beta=np.insert(beta,0,[2.0])\n",
    "beta=torch.tensor(beta).reshape(11,1).float()\n",
    "\n",
    "n=105**2\n",
    "field=nu.reshape(105,105)\n",
    "field_tensor=torch.tensor(field).reshape(11025,1)\n",
    "field_tensor=field_tensor+cov_cont@beta\n",
    "field_tensor=field_tensor.reshape(1,n)\n",
    "\n",
    "time=timeseries.repeat(1,n)\n",
    "noise=torch.normal(mean=0,std=0.5,size=(1095,11025))\n",
    "simudata=field_tensor+time+noise\n",
    "joblib.dump(simudata,'Data_nonGaussian')\n",
    "simudata"
   ]
  }
 ],
 "metadata": {
  "kernelspec": {
   "display_name": "base",
   "language": "python",
   "name": "python3"
  },
  "language_info": {
   "codemirror_mode": {
    "name": "ipython",
    "version": 3
   },
   "file_extension": ".py",
   "mimetype": "text/x-python",
   "name": "python",
   "nbconvert_exporter": "python",
   "pygments_lexer": "ipython3",
   "version": "3.10.13"
  }
 },
 "nbformat": 4,
 "nbformat_minor": 2
}
